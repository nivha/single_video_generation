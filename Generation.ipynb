{
 "cells": [
  {
   "cell_type": "code",
   "execution_count": null,
   "metadata": {
    "scrolled": true
   },
   "outputs": [],
   "source": [
    "!gpu-who"
   ]
  },
  {
   "cell_type": "code",
   "execution_count": null,
   "metadata": {
    "scrolled": true
   },
   "outputs": [],
   "source": [
    "import os\n",
    "os.environ['CUDA_VISIBLE_DEVICES'] = '7'\n",
    "import utils\n",
    "from utils.import_for_notebooks import *"
   ]
  },
  {
   "cell_type": "code",
   "execution_count": null,
   "metadata": {},
   "outputs": [],
   "source": [
    "from IPython.display import HTML, display\n",
    "from utils.main_utils import html_vid\n",
    "import vgpnn\n",
    "\n",
    "vid_name = 'airballoons_QGAMTlI6XxY'\n",
    "\n",
    "# Define GPNN\n",
    "VGPNN, orig_vid = vgpnn.get_vgpnn(\n",
    "    frames_dir=f'data/{vid_name}',\n",
    "    start_frame=61,\n",
    "    end_frame=75,\n",
    "    device=device,\n",
    "    max_size=100,\n",
    "    min_size=(3, 15),  # (T,H,W)\n",
    "    downfactor=(0.85, 0.85),\n",
    "    J=5,\n",
    "    J_start_from=2,\n",
    "    kernel_size=(3,7,7),\n",
    "    sthw=(1,1,1),\n",
    "    reduce='median',\n",
    "    vgpnn_type='pm',\n",
    ")\n",
    "\n",
    "print('Pyramid:')\n",
    "for i, outs in enumerate(VGPNN.r_out_shapes):\n",
    "    assert outs[0]>=VGPNN.Ks[i][0], 'kernel size must be bigger than size of video'\n",
    "    print(f'LEVEL {i:3} SIZE {str(outs):17} KERNEL {str(VGPNN.Ks[i]):15} J {VGPNN.Js[i]}')"
   ]
  },
  {
   "cell_type": "code",
   "execution_count": null,
   "metadata": {
    "scrolled": false
   },
   "outputs": [],
   "source": [
    "z = torch.randn_like(VGPNN.q0).to(device)\n",
    "save_dir = './results/airballoons/'\n",
    "vgpnn_out = VGPNN.forward(\n",
    "    VGPNN.q0, noises_dict={0: z}, noises_amps={0: 5}, verbose=False, save_dir=save_dir,\n",
    ")"
   ]
  },
  {
   "cell_type": "code",
   "execution_count": null,
   "metadata": {},
   "outputs": [],
   "source": [
    "anim_out = html_vid(vgpnn_out, interval=50)\n",
    "anim_org = html_vid(orig_vid, interval=50)\n",
    "\n",
    "display(HTML(f\"\"\"<table><tr>\n",
    "<td>{anim_org.to_html5_video()}</td>\n",
    "<td>{anim_out.to_html5_video()}</td>\n",
    "</tr></table>\"\"\"))"
   ]
  },
  {
   "cell_type": "code",
   "execution_count": null,
   "metadata": {},
   "outputs": [],
   "source": []
  }
 ],
 "metadata": {
  "kernelspec": {
   "display_name": "Python 3 (ipykernel)",
   "language": "python",
   "name": "python3"
  },
  "language_info": {
   "codemirror_mode": {
    "name": "ipython",
    "version": 3
   },
   "file_extension": ".py",
   "mimetype": "text/x-python",
   "name": "python",
   "nbconvert_exporter": "python",
   "pygments_lexer": "ipython3",
   "version": "3.9.7"
  },
  "metadata": {
   "interpreter": {
    "hash": "457ffc37d4410cb32cf867e32d9d9703d381eb512cb6f43a31cd39a7ca133544"
   }
  }
 },
 "nbformat": 4,
 "nbformat_minor": 4
}
